{
  "nbformat": 4,
  "nbformat_minor": 0,
  "metadata": {
    "colab": {
      "name": "Untitled0.ipynb",
      "provenance": [],
      "collapsed_sections": []
    },
    "kernelspec": {
      "display_name": "Python 3",
      "name": "python3"
    },
    "language_info": {
      "name": "python"
    }
  },
  "cells": [
    {
      "cell_type": "code",
      "metadata": {
        "colab": {
          "background_save": true,
          "base_uri": "https://localhost:8080/"
        },
        "id": "s8UIKroVDATC",
        "outputId": "0d5c27aa-cddf-4e18-b633-fc6fc304086b"
      },
      "source": [
        "from Adafruit_IO import Client\n",
        "aio = Client('Kingvishal1','aio_hhyd90JtGm5aLQdJ3bsRaDmbPnI3')\n",
        "\n",
        "from telegram.ext import Updater, CommandHandler,MessageHandler,Filters\n",
        "def demo1(bot,update):\n",
        "  chat_id = bot.message.chat_id\n",
        "  path = 'https://www.google.com/url?sa=i&url=https%3A%2F%2Fm.facebook.com%2Fokay.loja%2Fphotos%2F&psig=AOvVaw1PotWViF11J04dImPhX6Zg&ust=1626752686113000&source=images&cd=vfe&ved=0CAsQjRxqFwoTCMDz55Sc7vECFQAAAAAdAAAAABAD'\n",
        "  bot.message.reply_text('I am okay.')\n",
        "  update.bot.sendPhoto(chat_id=chat_id,photo=path)\n",
        "\n",
        "def demo2(bot,update):\n",
        "  bot.message.reply_text(\"My name is Vishal's_bot\")\n",
        "\n",
        "def lightOn(bot,update):\n",
        "  chat_id = bot.message.chat_id\n",
        "  aio.send('lightonoff', 1)\n",
        "  path = 'https://i2.wp.com/business-ethics.com/wp-content/uploads/2011/09/EarthTalkBULB.jpg?zoom=1.25&resize=948%2C572&ssl=1'\n",
        "  update.bot.sendPhoto(chat_id=chat_id,photo=path)\n",
        "  bot.message.reply_text(\"light is turned on\")\n",
        "\n",
        "def lightOff(bot,update):\n",
        "  chat_id = bot.message.chat_id\n",
        "  aio.send('lightonoff', 0)\n",
        "  path = 'https://media.istockphoto.com/photos/digital-illustration-of-electric-bulb-picture-id519960558?s=612x612'\n",
        "  update.bot.sendPhoto(chat_id=chat_id,photo=path)\n",
        "  bot.message.reply_text(\"light is turned off\")\n",
        "\n",
        "def fanOn(bot,update):\n",
        "  chat_id = bot.message.chat_id\n",
        "  aio.send('fanonoff', 1)\n",
        "  path = 'https://www.thespruce.com/thmb/tyVxBz0q2ToJOLZCGKUHj6vwId0=/1883x1412/smart/filters:no_upscale()/GettyImages-182436453-5c79e51cc9e77c0001e98e6c.jpg'\n",
        "  update.bot.sendPhoto(chat_id=chat_id,photo=path)\n",
        "  bot.message.reply_text(\"fan is turned on\")\n",
        "\n",
        "def fanOff(bot,update):\n",
        "  chat_id = bot.message.chat_id\n",
        "  aio.send('fanonoff', 0)\n",
        "  path = 'https://www.lifesavvy.com/p/uploads/2019/06/37df4c5d.jpg?height=200p&trim=2,2,2,2'\n",
        "  update.bot.sendPhoto(chat_id=chat_id,photo=path)\n",
        "  bot.message.reply_text(\"fan is turned off\")\n",
        "\n",
        "def main(bot,update):\n",
        "  User_Input = bot.message.text.lower()\n",
        "  print(User_Input)\n",
        "\n",
        "  if User_Input== \"how are you?\":\n",
        "    demo1(bot,update)\n",
        "  elif User_Input==\"what is your name?\" or User_Input ==\"name please\":\n",
        "    demo2(bot,update)\n",
        "  elif User_Input==\"turn on the light\" or User_Input==\"light on\":\n",
        "    lightOn(bot,update)\n",
        "  elif User_Input==\"turn off the light\" or User_Input==\"light off\":\n",
        "    lightOff(bot,update)\n",
        "  elif User_Input==\"turn on the fan\" or User_Input==\"fan on\":\n",
        "    fanOn(bot,update)\n",
        "  elif User_Input==\"turn off the fan\" or User_Input==\"fan off\":\n",
        "    fanOff(bot,update)\n",
        "  else:\n",
        "    bot.message.reply_text('Invalid Text')\n",
        "\n",
        "BOT_TOKEN = '1947365720:AAEM2adyhklP9id27IQcE70dIsQsh_RGEc8'\n",
        "u = Updater(BOT_TOKEN,use_context=True)\n",
        "dp = u.dispatcher\n",
        "dp.add_handler(MessageHandler(Filters.text,main))\n",
        "u.start_polling()\n",
        "u.idle()"
      ],
      "execution_count": null,
      "outputs": [
        {
          "output_type": "stream",
          "text": [
            "light on\n",
            "fan on\n"
          ],
          "name": "stdout"
        }
      ]
    },
    {
      "cell_type": "code",
      "metadata": {
        "colab": {
          "base_uri": "https://localhost:8080/",
          "height": 363
        },
        "id": "t1kN2l9-HJsQ",
        "outputId": "b5bc3d6a-679f-40ab-c061-5bd087e1c167"
      },
      "source": [
        "from Adafruit_IO import Client\n",
        "aio = Client('Kingvishal1','aio_nLpx91XEnfXwKE7GSdLbQgYmp8s8')\n",
        "\n",
        "aio.send('lightonoff', 1)\n",
        "datUser_Input= aio.receive('lightonoff')\n",
        "print(f'Received value: {data.value}')\n",
        "\n",
        "aio.send('fanonoff', 1)\n",
        "datUser_Input= aio.receive('fanonoff')\n",
        "print(f'Received value: {data.value}')"
      ],
      "execution_count": null,
      "outputs": [
        {
          "output_type": "error",
          "ename": "ModuleNotFoundError",
          "evalue": "ignored",
          "traceback": [
            "\u001b[0;31m---------------------------------------------------------------------------\u001b[0m",
            "\u001b[0;31mModuleNotFoundError\u001b[0m                       Traceback (most recent call last)",
            "\u001b[0;32m<ipython-input-2-f8706512b578>\u001b[0m in \u001b[0;36m<module>\u001b[0;34m()\u001b[0m\n\u001b[0;32m----> 1\u001b[0;31m \u001b[0;32mfrom\u001b[0m \u001b[0mAdafruit_IO\u001b[0m \u001b[0;32mimport\u001b[0m \u001b[0mClient\u001b[0m\u001b[0;34m\u001b[0m\u001b[0;34m\u001b[0m\u001b[0m\n\u001b[0m\u001b[1;32m      2\u001b[0m \u001b[0maio\u001b[0m \u001b[0;34m=\u001b[0m \u001b[0mClient\u001b[0m\u001b[0;34m(\u001b[0m\u001b[0;34m'Kingvishal1'\u001b[0m\u001b[0;34m,\u001b[0m\u001b[0;34m'aio_nLpx91XEnfXwKE7GSdLbQgYmp8s8'\u001b[0m\u001b[0;34m)\u001b[0m\u001b[0;34m\u001b[0m\u001b[0;34m\u001b[0m\u001b[0m\n\u001b[1;32m      3\u001b[0m \u001b[0;34m\u001b[0m\u001b[0m\n\u001b[1;32m      4\u001b[0m \u001b[0maio\u001b[0m\u001b[0;34m.\u001b[0m\u001b[0msend\u001b[0m\u001b[0;34m(\u001b[0m\u001b[0;34m'lightonoff'\u001b[0m\u001b[0;34m,\u001b[0m \u001b[0;36m1\u001b[0m\u001b[0;34m)\u001b[0m\u001b[0;34m\u001b[0m\u001b[0;34m\u001b[0m\u001b[0m\n\u001b[1;32m      5\u001b[0m \u001b[0mdatUser_Input\u001b[0m\u001b[0;34m=\u001b[0m \u001b[0maio\u001b[0m\u001b[0;34m.\u001b[0m\u001b[0mreceive\u001b[0m\u001b[0;34m(\u001b[0m\u001b[0;34m'lightonoff'\u001b[0m\u001b[0;34m)\u001b[0m\u001b[0;34m\u001b[0m\u001b[0;34m\u001b[0m\u001b[0m\n",
            "\u001b[0;31mModuleNotFoundError\u001b[0m: No module named 'Adafruit_IO'",
            "",
            "\u001b[0;31m---------------------------------------------------------------------------\u001b[0;32m\nNOTE: If your import is failing due to a missing package, you can\nmanually install dependencies using either !pip or !apt.\n\nTo view examples of installing some common dependencies, click the\n\"Open Examples\" button below.\n\u001b[0;31m---------------------------------------------------------------------------\u001b[0m\n"
          ]
        }
      ]
    },
    {
      "cell_type": "code",
      "metadata": {
        "colab": {
          "base_uri": "https://localhost:8080/"
        },
        "id": "zJ6SPjL1F3Tj",
        "outputId": "52f4cacf-e50f-41eb-ce55-67ea4bee885d"
      },
      "source": [
        "!pip install adafruit-io --quiet\n",
        "!pip install python-telegram-bot==13.0"
      ],
      "execution_count": null,
      "outputs": [
        {
          "output_type": "stream",
          "text": [
            "\u001b[K     |████████████████████████████████| 51kB 3.2MB/s \n",
            "\u001b[K     |████████████████████████████████| 102kB 4.9MB/s \n",
            "\u001b[?25h  Building wheel for adafruit-io (setup.py) ... \u001b[?25l\u001b[?25hdone\n",
            "  Building wheel for paho-mqtt (setup.py) ... \u001b[?25l\u001b[?25hdone\n",
            "Collecting python-telegram-bot==13.0\n",
            "\u001b[?25l  Downloading https://files.pythonhosted.org/packages/6d/ad/e86f885ab66e54a5f813131e03bd8682ee0b3d2b6a2cde53ed7828b9ef0a/python_telegram_bot-13.0-py2.py3-none-any.whl (404kB)\n",
            "\u001b[K     |████████████████████████████████| 409kB 5.3MB/s \n",
            "\u001b[?25hCollecting cryptography\n",
            "\u001b[?25l  Downloading https://files.pythonhosted.org/packages/b2/26/7af637e6a7e87258b963f1731c5982fb31cd507f0d90d91836e446955d02/cryptography-3.4.7-cp36-abi3-manylinux2014_x86_64.whl (3.2MB)\n",
            "\u001b[K     |████████████████████████████████| 3.2MB 39.7MB/s \n",
            "\u001b[?25hRequirement already satisfied: certifi in /usr/local/lib/python3.7/dist-packages (from python-telegram-bot==13.0) (2021.5.30)\n",
            "Requirement already satisfied: decorator>=4.4.0 in /usr/local/lib/python3.7/dist-packages (from python-telegram-bot==13.0) (4.4.2)\n",
            "Requirement already satisfied: tornado>=5.1 in /usr/local/lib/python3.7/dist-packages (from python-telegram-bot==13.0) (5.1.1)\n",
            "Collecting APScheduler==3.6.3\n",
            "\u001b[?25l  Downloading https://files.pythonhosted.org/packages/f3/34/9ef20ed473c4fd2c3df54ef77a27ae3fc7500b16b192add4720cab8b2c09/APScheduler-3.6.3-py2.py3-none-any.whl (58kB)\n",
            "\u001b[K     |████████████████████████████████| 61kB 6.9MB/s \n",
            "\u001b[?25hRequirement already satisfied: cffi>=1.12 in /usr/local/lib/python3.7/dist-packages (from cryptography->python-telegram-bot==13.0) (1.14.6)\n",
            "Requirement already satisfied: six>=1.4.0 in /usr/local/lib/python3.7/dist-packages (from APScheduler==3.6.3->python-telegram-bot==13.0) (1.15.0)\n",
            "Requirement already satisfied: pytz in /usr/local/lib/python3.7/dist-packages (from APScheduler==3.6.3->python-telegram-bot==13.0) (2018.9)\n",
            "Requirement already satisfied: setuptools>=0.7 in /usr/local/lib/python3.7/dist-packages (from APScheduler==3.6.3->python-telegram-bot==13.0) (57.2.0)\n",
            "Requirement already satisfied: tzlocal>=1.2 in /usr/local/lib/python3.7/dist-packages (from APScheduler==3.6.3->python-telegram-bot==13.0) (1.5.1)\n",
            "Requirement already satisfied: pycparser in /usr/local/lib/python3.7/dist-packages (from cffi>=1.12->cryptography->python-telegram-bot==13.0) (2.20)\n",
            "Installing collected packages: cryptography, APScheduler, python-telegram-bot\n",
            "Successfully installed APScheduler-3.6.3 cryptography-3.4.7 python-telegram-bot-13.0\n"
          ],
          "name": "stdout"
        }
      ]
    }
  ]
}